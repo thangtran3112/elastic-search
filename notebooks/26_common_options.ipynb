{
 "cells": [
  {
   "cell_type": "markdown",
   "metadata": {},
   "source": [
    "## Documentation\n",
    "\n",
    "To read more about the common options in Elasticsearch, checkout the docs [here](https://www.elastic.co/guide/en/elasticsearch/reference/current/common-options.html#date-math).\n",
    "\n",
    "![common_options_docs](../images/common_options_docs.png)"
   ]
  },
  {
   "cell_type": "markdown",
   "metadata": {},
   "source": [
    "## Connect to ElasticSearch"
   ]
  },
  {
   "cell_type": "code",
   "execution_count": 1,
   "metadata": {},
   "outputs": [
    {
     "name": "stdout",
     "output_type": "stream",
     "text": [
      "Connected to Elasticsearch!\n",
      "{'cluster_name': 'docker-cluster',\n",
      " 'cluster_uuid': 'iNEgsrfzSs-A5IWMvnKk8w',\n",
      " 'name': '5af1aab6c380',\n",
      " 'tagline': 'You Know, for Search',\n",
      " 'version': {'build_date': '2024-08-05T10:05:34.233336849Z',\n",
      "             'build_flavor': 'default',\n",
      "             'build_hash': '1a77947f34deddb41af25e6f0ddb8e830159c179',\n",
      "             'build_snapshot': False,\n",
      "             'build_type': 'docker',\n",
      "             'lucene_version': '9.11.1',\n",
      "             'minimum_index_compatibility_version': '7.0.0',\n",
      "             'minimum_wire_compatibility_version': '7.17.0',\n",
      "             'number': '8.15.0'}}\n"
     ]
    }
   ],
   "source": [
    "from pprint import pprint\n",
    "from elasticsearch import Elasticsearch\n",
    "\n",
    "es = Elasticsearch('http://localhost:9200')\n",
    "client_info = es.info()\n",
    "print('Connected to Elasticsearch!')\n",
    "pprint(client_info.body)"
   ]
  },
  {
   "cell_type": "markdown",
   "metadata": {},
   "source": [
    "## 1. Human-readable output"
   ]
  },
  {
   "cell_type": "code",
   "execution_count": 2,
   "metadata": {},
   "outputs": [
    {
     "name": "stdout",
     "output_type": "stream",
     "text": [
      "{'max_uptime': '7.5h',\n",
      " 'max_uptime_in_millis': 27044242,\n",
      " 'mem': {'heap_max': '3.8gb',\n",
      "         'heap_max_in_bytes': 4110417920,\n",
      "         'heap_used': '1.7gb',\n",
      "         'heap_used_in_bytes': 1880053496},\n",
      " 'threads': 149,\n",
      " 'versions': [{'bundled_jdk': True,\n",
      "               'count': 1,\n",
      "               'using_bundled_jdk': True,\n",
      "               'version': '22.0.1',\n",
      "               'vm_name': 'OpenJDK 64-Bit Server VM',\n",
      "               'vm_vendor': 'Oracle Corporation',\n",
      "               'vm_version': '22.0.1+8-16'}]}\n"
     ]
    }
   ],
   "source": [
    "response = es.cluster.stats(human=True)\n",
    "pprint(response[\"nodes\"][\"jvm\"])"
   ]
  },
  {
   "cell_type": "code",
   "execution_count": 3,
   "metadata": {},
   "outputs": [
    {
     "name": "stdout",
     "output_type": "stream",
     "text": [
      "{'max_uptime_in_millis': 27066645,\n",
      " 'mem': {'heap_max_in_bytes': 4110417920, 'heap_used_in_bytes': 1884247800},\n",
      " 'threads': 148,\n",
      " 'versions': [{'bundled_jdk': True,\n",
      "               'count': 1,\n",
      "               'using_bundled_jdk': True,\n",
      "               'version': '22.0.1',\n",
      "               'vm_name': 'OpenJDK 64-Bit Server VM',\n",
      "               'vm_vendor': 'Oracle Corporation',\n",
      "               'vm_version': '22.0.1+8-16'}]}\n"
     ]
    }
   ],
   "source": [
    "response = es.cluster.stats(human=False)\n",
    "pprint(response[\"nodes\"][\"jvm\"])"
   ]
  },
  {
   "cell_type": "markdown",
   "metadata": {},
   "source": [
    "## 2. Date math"
   ]
  },
  {
   "cell_type": "code",
   "execution_count": 5,
   "metadata": {},
   "outputs": [
    {
     "data": {
      "text/plain": [
       "ObjectApiResponse({'acknowledged': True, 'shards_acknowledged': True, 'index': 'my_index'})"
      ]
     },
     "execution_count": 5,
     "metadata": {},
     "output_type": "execute_result"
    }
   ],
   "source": [
    "es.indices.delete(index='my_index', ignore_unavailable=True)\n",
    "es.indices.create(index='my_index')"
   ]
  },
  {
   "cell_type": "code",
   "execution_count": 6,
   "metadata": {},
   "outputs": [
    {
     "data": {
      "text/plain": [
       "ObjectApiResponse({'errors': False, 'took': 30299362, 'items': [{'index': {'_index': 'my_index', '_id': 'hEkUNJUB6odEtf1MkYPJ', '_version': 1, 'result': 'created', '_shards': {'total': 2, 'successful': 1, 'failed': 0}, '_seq_no': 0, '_primary_term': 1, 'status': 201}}, {'index': {'_index': 'my_index', '_id': 'hUkUNJUB6odEtf1MkYPJ', '_version': 1, 'result': 'created', '_shards': {'total': 2, 'successful': 1, 'failed': 0}, '_seq_no': 1, '_primary_term': 1, 'status': 201}}, {'index': {'_index': 'my_index', '_id': 'hkkUNJUB6odEtf1MkYPJ', '_version': 1, 'result': 'created', '_shards': {'total': 2, 'successful': 1, 'failed': 0}, '_seq_no': 2, '_primary_term': 1, 'status': 201}}]})"
      ]
     },
     "execution_count": 6,
     "metadata": {},
     "output_type": "execute_result"
    }
   ],
   "source": [
    "import json\n",
    "\n",
    "operations = []\n",
    "index_name = 'my_index'\n",
    "dummy_data = json.load(open(\"../data/dummy_data.json\"))\n",
    "for document in dummy_data:\n",
    "    operations.append({'index': {'_index': index_name}})\n",
    "    operations.append(document)\n",
    "\n",
    "es.bulk(operations=operations)"
   ]
  },
  {
   "cell_type": "code",
   "execution_count": 7,
   "metadata": {},
   "outputs": [
    {
     "name": "stdout",
     "output_type": "stream",
     "text": [
      "Found 2 documents\n"
     ]
    }
   ],
   "source": [
    "response = es.search(\n",
    "    index=index_name,\n",
    "    body={\n",
    "        \"query\": {\n",
    "            \"range\": {\n",
    "                \"created_on\": {\n",
    "                    \"gte\": \"2024-09-22||+1d/d\",  # 2024-09-23\n",
    "                    \"lte\": \"now/d\"  # today\n",
    "                }\n",
    "            }\n",
    "        }\n",
    "    }\n",
    ")\n",
    "hits = response['hits']['hits']\n",
    "print(f\"Found {len(hits)} documents\")"
   ]
  },
  {
   "cell_type": "code",
   "execution_count": 8,
   "metadata": {},
   "outputs": [
    {
     "name": "stdout",
     "output_type": "stream",
     "text": [
      "Found 0 documents\n"
     ]
    }
   ],
   "source": [
    "response = es.search(\n",
    "    index=index_name,\n",
    "    body={\n",
    "        \"query\": {\n",
    "            \"range\": {\n",
    "                \"created_on\": {\n",
    "                    \"gte\": \"2024-09-22||+1M/d\",  # 2024-09-22 + 1 month\n",
    "                    \"lte\": \"now/d\"\n",
    "                }\n",
    "            }\n",
    "        }\n",
    "    }\n",
    ")\n",
    "hits = response['hits']['hits']\n",
    "print(f\"Found {len(hits)} documents\")"
   ]
  },
  {
   "cell_type": "markdown",
   "metadata": {},
   "source": [
    "## 3. Response filtering"
   ]
  },
  {
   "cell_type": "markdown",
   "metadata": {},
   "source": [
    "### 3.1 Inclusive filtering"
   ]
  },
  {
   "cell_type": "code",
   "execution_count": 9,
   "metadata": {},
   "outputs": [
    {
     "name": "stdout",
     "output_type": "stream",
     "text": [
      "{'_shards': {'failed': 0, 'skipped': 0, 'successful': 1, 'total': 1},\n",
      " 'hits': {'hits': [{'_id': 'hEkUNJUB6odEtf1MkYPJ',\n",
      "                    '_index': 'my_index',\n",
      "                    '_score': 1.0,\n",
      "                    '_source': {'created_on': '2024-09-22',\n",
      "                                'text': 'This is the first sample document '\n",
      "                                        'text.',\n",
      "                                'title': 'Sample Title 1'}},\n",
      "                   {'_id': 'hUkUNJUB6odEtf1MkYPJ',\n",
      "                    '_index': 'my_index',\n",
      "                    '_score': 1.0,\n",
      "                    '_source': {'created_on': '2024-09-24',\n",
      "                                'text': 'Here is another example of a '\n",
      "                                        'document.',\n",
      "                                'title': 'Sample Title 2'}},\n",
      "                   {'_id': 'hkkUNJUB6odEtf1MkYPJ',\n",
      "                    '_index': 'my_index',\n",
      "                    '_score': 1.0,\n",
      "                    '_source': {'created_on': '2024-09-24',\n",
      "                                'text': 'The content of the third document '\n",
      "                                        'goes here.',\n",
      "                                'title': 'Sample Title 3'}}],\n",
      "          'max_score': 1.0,\n",
      "          'total': {'relation': 'eq', 'value': 3}},\n",
      " 'timed_out': False,\n",
      " 'took': 1}\n"
     ]
    }
   ],
   "source": [
    "response = es.search(\n",
    "    index=index_name,\n",
    "    body={\n",
    "        \"query\": {\n",
    "            \"match_all\": {}\n",
    "        }\n",
    "    },\n",
    ")\n",
    "pprint(response.body)"
   ]
  },
  {
   "cell_type": "code",
   "execution_count": 10,
   "metadata": {},
   "outputs": [
    {
     "name": "stdout",
     "output_type": "stream",
     "text": [
      "{'hits': {'hits': [{'_id': 'hEkUNJUB6odEtf1MkYPJ',\n",
      "                    '_source': {'created_on': '2024-09-22',\n",
      "                                'text': 'This is the first sample document '\n",
      "                                        'text.',\n",
      "                                'title': 'Sample Title 1'}},\n",
      "                   {'_id': 'hUkUNJUB6odEtf1MkYPJ',\n",
      "                    '_source': {'created_on': '2024-09-24',\n",
      "                                'text': 'Here is another example of a '\n",
      "                                        'document.',\n",
      "                                'title': 'Sample Title 2'}},\n",
      "                   {'_id': 'hkkUNJUB6odEtf1MkYPJ',\n",
      "                    '_source': {'created_on': '2024-09-24',\n",
      "                                'text': 'The content of the third document '\n",
      "                                        'goes here.',\n",
      "                                'title': 'Sample Title 3'}}]}}\n"
     ]
    }
   ],
   "source": [
    "response = es.search(\n",
    "    index=index_name,\n",
    "    body={\n",
    "        \"query\": {\n",
    "            \"match_all\": {}\n",
    "        }\n",
    "    },\n",
    "    filter_path=\"hits.hits._id,hits.hits._source\"  # Keep only _id and _source fields\n",
    ")\n",
    "pprint(response.body)"
   ]
  },
  {
   "cell_type": "markdown",
   "metadata": {},
   "source": [
    "### 3.2 Exclusive filtering"
   ]
  },
  {
   "cell_type": "code",
   "execution_count": null,
   "metadata": {},
   "outputs": [
    {
     "name": "stdout",
     "output_type": "stream",
     "text": [
      "{'hits': {'hits': [{'_id': 'hEkUNJUB6odEtf1MkYPJ',\n",
      "                    '_index': 'my_index',\n",
      "                    '_score': 1.0,\n",
      "                    '_source': {'created_on': '2024-09-22',\n",
      "                                'text': 'This is the first sample document '\n",
      "                                        'text.',\n",
      "                                'title': 'Sample Title 1'}},\n",
      "                   {'_id': 'hUkUNJUB6odEtf1MkYPJ',\n",
      "                    '_index': 'my_index',\n",
      "                    '_score': 1.0,\n",
      "                    '_source': {'created_on': '2024-09-24',\n",
      "                                'text': 'Here is another example of a '\n",
      "                                        'document.',\n",
      "                                'title': 'Sample Title 2'}},\n",
      "                   {'_id': 'hkkUNJUB6odEtf1MkYPJ',\n",
      "                    '_index': 'my_index',\n",
      "                    '_score': 1.0,\n",
      "                    '_source': {'created_on': '2024-09-24',\n",
      "                                'text': 'The content of the third document '\n",
      "                                        'goes here.',\n",
      "                                'title': 'Sample Title 3'}}],\n",
      "          'max_score': 1.0,\n",
      "          'total': {'relation': 'eq', 'value': 3}}}\n"
     ]
    }
   ],
   "source": [
    "response = es.search(\n",
    "    index=index_name,\n",
    "    body={\n",
    "        \"query\": {\n",
    "            \"match_all\": {}\n",
    "        }\n",
    "    },\n",
    "    filter_path=\"-_shards,-timed_out,-took\"  # Remove those fields from the response, only hits will be returned\n",
    ")\n",
    "pprint(response.body)"
   ]
  },
  {
   "cell_type": "markdown",
   "metadata": {},
   "source": [
    "### 3.3. Combined filtering"
   ]
  },
  {
   "cell_type": "code",
   "execution_count": 18,
   "metadata": {},
   "outputs": [
    {
     "name": "stdout",
     "output_type": "stream",
     "text": [
      "{'hits': {'hits': [{'_id': 'hEkUNJUB6odEtf1MkYPJ'},\n",
      "                   {'_id': 'hUkUNJUB6odEtf1MkYPJ'},\n",
      "                   {'_id': 'hkkUNJUB6odEtf1MkYPJ'}]}}\n"
     ]
    }
   ],
   "source": [
    "response = es.search(\n",
    "    index=index_name,\n",
    "    body={\n",
    "        \"query\": {\n",
    "            \"match_all\": {}\n",
    "        }\n",
    "    },\n",
    "    filter_path=\"hits.hits._id,-hits.hits._score\"\n",
    ")\n",
    "pprint(response.body)"
   ]
  },
  {
   "cell_type": "markdown",
   "metadata": {},
   "source": [
    "## 4. Flat settings"
   ]
  },
  {
   "cell_type": "code",
   "execution_count": 19,
   "metadata": {},
   "outputs": [
    {
     "name": "stdout",
     "output_type": "stream",
     "text": [
      "{'my_index': {'settings': {'index': {'creation_date': '1740335513268',\n",
      "                                     'number_of_replicas': '1',\n",
      "                                     'number_of_shards': '1',\n",
      "                                     'provided_name': 'my_index',\n",
      "                                     'routing': {'allocation': {'include': {'_tier_preference': 'data_content'}}},\n",
      "                                     'uuid': 'z1hyDhAnRf6xt8NDTP3TbQ',\n",
      "                                     'version': {'created': '8512000'}}}}}\n"
     ]
    }
   ],
   "source": [
    "response = es.indices.get_settings(\n",
    "    index=index_name,\n",
    ")\n",
    "pprint(response.body)"
   ]
  },
  {
   "cell_type": "code",
   "execution_count": 20,
   "metadata": {},
   "outputs": [
    {
     "name": "stdout",
     "output_type": "stream",
     "text": [
      "{'my_index': {'settings': {'index.creation_date': '1740335513268',\n",
      "                           'index.number_of_replicas': '1',\n",
      "                           'index.number_of_shards': '1',\n",
      "                           'index.provided_name': 'my_index',\n",
      "                           'index.routing.allocation.include._tier_preference': 'data_content',\n",
      "                           'index.uuid': 'z1hyDhAnRf6xt8NDTP3TbQ',\n",
      "                           'index.version.created': '8512000'}}}\n"
     ]
    }
   ],
   "source": [
    "response = es.indices.get_settings(\n",
    "    index=index_name,\n",
    "    flat_settings=True,\n",
    ")\n",
    "pprint(response.body)"
   ]
  }
 ],
 "metadata": {
  "kernelspec": {
   "display_name": "Python 3",
   "language": "python",
   "name": "python3"
  },
  "language_info": {
   "codemirror_mode": {
    "name": "ipython",
    "version": 3
   },
   "file_extension": ".py",
   "mimetype": "text/x-python",
   "name": "python",
   "nbconvert_exporter": "python",
   "pygments_lexer": "ipython3",
   "version": "3.11.11"
  }
 },
 "nbformat": 4,
 "nbformat_minor": 2
}
