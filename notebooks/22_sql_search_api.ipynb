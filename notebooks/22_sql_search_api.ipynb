{
 "cells": [
  {
   "cell_type": "markdown",
   "metadata": {},
   "source": [
    "## Documentation\n",
    "\n",
    "To read more about the SQL search API, checkout the docs [here](https://www.elastic.co/guide/en/elasticsearch/reference/current/sql-search-api.html).\n",
    "\n",
    "![sql_search_api_docs](../images/sql_search_api_docs.png)"
   ]
  },
  {
   "cell_type": "markdown",
   "metadata": {},
   "source": [
    "## Connect to ElasticSearch"
   ]
  },
  {
   "cell_type": "code",
   "execution_count": 1,
   "metadata": {},
   "outputs": [
    {
     "name": "stdout",
     "output_type": "stream",
     "text": [
      "Connected to Elasticsearch!\n",
      "{'cluster_name': 'docker-cluster',\n",
      " 'cluster_uuid': 'iNEgsrfzSs-A5IWMvnKk8w',\n",
      " 'name': '5af1aab6c380',\n",
      " 'tagline': 'You Know, for Search',\n",
      " 'version': {'build_date': '2024-08-05T10:05:34.233336849Z',\n",
      "             'build_flavor': 'default',\n",
      "             'build_hash': '1a77947f34deddb41af25e6f0ddb8e830159c179',\n",
      "             'build_snapshot': False,\n",
      "             'build_type': 'docker',\n",
      "             'lucene_version': '9.11.1',\n",
      "             'minimum_index_compatibility_version': '7.0.0',\n",
      "             'minimum_wire_compatibility_version': '7.17.0',\n",
      "             'number': '8.15.0'}}\n"
     ]
    }
   ],
   "source": [
    "from pprint import pprint\n",
    "from elasticsearch import Elasticsearch\n",
    "\n",
    "es = Elasticsearch('http://localhost:9200')\n",
    "client_info = es.info()\n",
    "print('Connected to Elasticsearch!')\n",
    "pprint(client_info.body)"
   ]
  },
  {
   "cell_type": "markdown",
   "metadata": {},
   "source": [
    "## Index data"
   ]
  },
  {
   "cell_type": "code",
   "execution_count": 2,
   "metadata": {},
   "outputs": [
    {
     "name": "stdout",
     "output_type": "stream",
     "text": [
      "{'errors': False,\n",
      " 'items': [{'index': {'_id': 'XEnHM5UB6odEtf1MJ4Pk',\n",
      "                      '_index': 'my_index',\n",
      "                      '_primary_term': 1,\n",
      "                      '_seq_no': 0,\n",
      "                      '_shards': {'failed': 0, 'successful': 1, 'total': 2},\n",
      "                      '_version': 1,\n",
      "                      'result': 'created',\n",
      "                      'status': 201}},\n",
      "           {'index': {'_id': 'XUnHM5UB6odEtf1MJ4Pk',\n",
      "                      '_index': 'my_index',\n",
      "                      '_primary_term': 1,\n",
      "                      '_seq_no': 1,\n",
      "                      '_shards': {'failed': 0, 'successful': 1, 'total': 2},\n",
      "                      '_version': 1,\n",
      "                      'result': 'created',\n",
      "                      'status': 201}},\n",
      "           {'index': {'_id': 'XknHM5UB6odEtf1MJ4Pk',\n",
      "                      '_index': 'my_index',\n",
      "                      '_primary_term': 1,\n",
      "                      '_seq_no': 2,\n",
      "                      '_shards': {'failed': 0, 'successful': 1, 'total': 2},\n",
      "                      '_version': 1,\n",
      "                      'result': 'created',\n",
      "                      'status': 201}},\n",
      "           {'index': {'_id': 'X0nHM5UB6odEtf1MJ4Pk',\n",
      "                      '_index': 'my_index',\n",
      "                      '_primary_term': 1,\n",
      "                      '_seq_no': 3,\n",
      "                      '_shards': {'failed': 0, 'successful': 1, 'total': 2},\n",
      "                      '_version': 1,\n",
      "                      'result': 'created',\n",
      "                      'status': 201}},\n",
      "           {'index': {'_id': 'YEnHM5UB6odEtf1MJ4Pk',\n",
      "                      '_index': 'my_index',\n",
      "                      '_primary_term': 1,\n",
      "                      '_seq_no': 4,\n",
      "                      '_shards': {'failed': 0, 'successful': 1, 'total': 2},\n",
      "                      '_version': 1,\n",
      "                      'result': 'created',\n",
      "                      'status': 201}},\n",
      "           {'index': {'_id': 'YUnHM5UB6odEtf1MJ4Pk',\n",
      "                      '_index': 'my_index',\n",
      "                      '_primary_term': 1,\n",
      "                      '_seq_no': 5,\n",
      "                      '_shards': {'failed': 0, 'successful': 1, 'total': 2},\n",
      "                      '_version': 1,\n",
      "                      'result': 'created',\n",
      "                      'status': 201}},\n",
      "           {'index': {'_id': 'YknHM5UB6odEtf1MJ4Pk',\n",
      "                      '_index': 'my_index',\n",
      "                      '_primary_term': 1,\n",
      "                      '_seq_no': 6,\n",
      "                      '_shards': {'failed': 0, 'successful': 1, 'total': 2},\n",
      "                      '_version': 1,\n",
      "                      'result': 'created',\n",
      "                      'status': 201}},\n",
      "           {'index': {'_id': 'Y0nHM5UB6odEtf1MJ4Pk',\n",
      "                      '_index': 'my_index',\n",
      "                      '_primary_term': 1,\n",
      "                      '_seq_no': 7,\n",
      "                      '_shards': {'failed': 0, 'successful': 1, 'total': 2},\n",
      "                      '_version': 1,\n",
      "                      'result': 'created',\n",
      "                      'status': 201}},\n",
      "           {'index': {'_id': 'ZEnHM5UB6odEtf1MJ4Pk',\n",
      "                      '_index': 'my_index',\n",
      "                      '_primary_term': 1,\n",
      "                      '_seq_no': 8,\n",
      "                      '_shards': {'failed': 0, 'successful': 1, 'total': 2},\n",
      "                      '_version': 1,\n",
      "                      'result': 'created',\n",
      "                      'status': 201}},\n",
      "           {'index': {'_id': 'ZUnHM5UB6odEtf1MJ4Pk',\n",
      "                      '_index': 'my_index',\n",
      "                      '_primary_term': 1,\n",
      "                      '_seq_no': 9,\n",
      "                      '_shards': {'failed': 0, 'successful': 1, 'total': 2},\n",
      "                      '_version': 1,\n",
      "                      'result': 'created',\n",
      "                      'status': 201}}],\n",
      " 'took': 25225937}\n"
     ]
    }
   ],
   "source": [
    "import json\n",
    "\n",
    "from pprint import pprint\n",
    "\n",
    "es.indices.delete(index='my_index', ignore_unavailable=True)\n",
    "es.indices.create(index='my_index')\n",
    "\n",
    "operations = []\n",
    "clothes_documents = json.load(open(\"../data/astronomy.json\"))\n",
    "\n",
    "for document in clothes_documents:\n",
    "    operations.append({'index': {'_index': 'my_index'}})\n",
    "    operations.append(document)\n",
    "\n",
    "response = es.bulk(operations=operations)\n",
    "pprint(response.body)"
   ]
  },
  {
   "cell_type": "code",
   "execution_count": 3,
   "metadata": {},
   "outputs": [
    {
     "name": "stdout",
     "output_type": "stream",
     "text": [
      "Number of documents in index: 10\n"
     ]
    }
   ],
   "source": [
    "count = es.count(index='my_index')\n",
    "print('Number of documents in index:', count.body['count'])"
   ]
  },
  {
   "cell_type": "markdown",
   "metadata": {},
   "source": [
    "## SQL search API"
   ]
  },
  {
   "cell_type": "markdown",
   "metadata": {},
   "source": [
    "### 1. Simple select query"
   ]
  },
  {
   "cell_type": "code",
   "execution_count": 4,
   "metadata": {},
   "outputs": [
    {
     "name": "stdout",
     "output_type": "stream",
     "text": [
      "['The Solar System']\n",
      "['Black Holes']\n",
      "['Galaxies']\n",
      "['The Big Bang Theory']\n",
      "['Exoplanets']\n"
     ]
    }
   ],
   "source": [
    "query = {\n",
    "    \"query\": \"SELECT title FROM my_index ORDER BY id LIMIT 5\"\n",
    "}\n",
    "\n",
    "response = es.sql.query(body=query)\n",
    "for row in response['rows']:\n",
    "    print(row)"
   ]
  },
  {
   "cell_type": "markdown",
   "metadata": {},
   "source": [
    "### 2. Change response format"
   ]
  },
  {
   "cell_type": "code",
   "execution_count": 9,
   "metadata": {},
   "outputs": [
    {
     "name": "stdout",
     "output_type": "stream",
     "text": [
      "{'columns': [{'name': 'content', 'type': 'text'},\n",
      "             {'name': 'id', 'type': 'long'},\n",
      "             {'name': 'title', 'type': 'text'}],\n",
      " 'rows': [['The Solar System consists of the Sun and the objects that orbit '\n",
      "           'it, including eight planets, their moons, dwarf planets, and '\n",
      "           'countless small bodies like asteroids and comets.',\n",
      "           1,\n",
      "           'The Solar System'],\n",
      "          ['A black hole is a region of space where the gravitational pull is '\n",
      "           'so strong that nothing, not even light, can escape from it. They '\n",
      "           'are formed when massive stars collapse under their own gravity.',\n",
      "           2,\n",
      "           'Black Holes'],\n",
      "          ['Galaxies are vast systems that consist of stars, stellar remnants, '\n",
      "           'interstellar gas, dust, and dark matter. The Milky Way is the '\n",
      "           'galaxy that contains our Solar System.',\n",
      "           3,\n",
      "           'Galaxies'],\n",
      "          ['The Big Bang Theory is the leading explanation about how the '\n",
      "           'universe began. It suggests that the universe was once in an '\n",
      "           'extremely hot and dense state and has been expanding ever since.',\n",
      "           4,\n",
      "           'The Big Bang Theory'],\n",
      "          ['Exoplanets, or extrasolar planets, are planets that exist outside '\n",
      "           'our solar system. They vary greatly in size and composition and '\n",
      "           'are often found using methods like the transit method and radial '\n",
      "           'velocity.',\n",
      "           5,\n",
      "           'Exoplanets'],\n",
      "          ['Stars are born from clouds of gas and dust in space. They undergo '\n",
      "           'a life cycle that includes stages such as main sequence, red '\n",
      "           'giant, and, ultimately, either a supernova explosion or a gentle '\n",
      "           'fade into a white dwarf.',\n",
      "           6,\n",
      "           'The Life Cycle of Stars'],\n",
      "          ['Astrobiology is the study of the origin, evolution, distribution, '\n",
      "           'and future of life in the universe. It combines elements of '\n",
      "           'biology, chemistry, and planetary science.',\n",
      "           7,\n",
      "           'Astrobiology'],\n",
      "          ['Dark matter is a type of matter that does not emit light or '\n",
      "           'energy. It cannot be observed directly but is believed to make up '\n",
      "           \"about 27% of the universe's total mass and energy.\",\n",
      "           8,\n",
      "           'Dark Matter'],\n",
      "          ['The universe has been expanding since the Big Bang. Observations '\n",
      "           'of distant galaxies show that they are moving away from us, which '\n",
      "           'supports the idea of an expanding universe.',\n",
      "           9,\n",
      "           'The Expanding Universe'],\n",
      "          ['Space exploration involves the use of space technology to explore '\n",
      "           'outer space. It includes missions to planets, moons, and other '\n",
      "           'celestial bodies, aiming to discover more about the universe.',\n",
      "           10,\n",
      "           'Space Exploration']]}\n"
     ]
    }
   ],
   "source": [
    "query = {\n",
    "    \"query\": \"SELECT * FROM my_index\",\n",
    "}\n",
    "\n",
    "response = es.sql.query(body=query, format='json')\n",
    "pprint(response.body)"
   ]
  },
  {
   "cell_type": "code",
   "execution_count": 6,
   "metadata": {},
   "outputs": [
    {
     "name": "stdout",
     "output_type": "stream",
     "text": [
      "                                                                                                        content                                                                                                         |      id       |         title         \n",
      "------------------------------------------------------------------------------------------------------------------------------------------------------------------------------------------------------------------------+---------------+-----------------------\n",
      "The Solar System consists of the Sun and the objects that orbit it, including eight planets, their moons, dwarf planets, and countless small bodies like asteroids and comets.                                          |1              |The Solar System       \n",
      "A black hole is a region of space where the gravitational pull is so strong that nothing, not even light, can escape from it. They are formed when massive stars collapse under their own gravity.                      |2              |Black Holes            \n",
      "Galaxies are vast systems that consist of stars, stellar remnants, interstellar gas, dust, and dark matter. The Milky Way is the galaxy that contains our Solar System.                                                 |3              |Galaxies               \n",
      "The Big Bang Theory is the leading explanation about how the universe began. It suggests that the universe was once in an extremely hot and dense state and has been expanding ever since.                              |4              |The Big Bang Theory    \n",
      "Exoplanets, or extrasolar planets, are planets that exist outside our solar system. They vary greatly in size and composition and are often found using methods like the transit method and radial velocity.            |5              |Exoplanets             \n",
      "Stars are born from clouds of gas and dust in space. They undergo a life cycle that includes stages such as main sequence, red giant, and, ultimately, either a supernova explosion or a gentle fade into a white dwarf.|6              |The Life Cycle of Stars\n",
      "Astrobiology is the study of the origin, evolution, distribution, and future of life in the universe. It combines elements of biology, chemistry, and planetary science.                                                |7              |Astrobiology           \n",
      "Dark matter is a type of matter that does not emit light or energy. It cannot be observed directly but is believed to make up about 27% of the universe's total mass and energy.                                        |8              |Dark Matter            \n",
      "The universe has been expanding since the Big Bang. Observations of distant galaxies show that they are moving away from us, which supports the idea of an expanding universe.                                          |9              |The Expanding Universe \n",
      "Space exploration involves the use of space technology to explore outer space. It includes missions to planets, moons, and other celestial bodies, aiming to discover more about the universe.                          |10             |Space Exploration      \n",
      "\n"
     ]
    }
   ],
   "source": [
    "query = {\n",
    "    \"query\": \"SELECT * FROM my_index\",\n",
    "}\n",
    "\n",
    "response = es.sql.query(body=query, format='txt')\n",
    "print(response)"
   ]
  },
  {
   "cell_type": "code",
   "execution_count": 10,
   "metadata": {},
   "outputs": [
    {
     "name": "stdout",
     "output_type": "stream",
     "text": [
      "content,id,title\n",
      "\"The Solar System consists of the Sun and the objects that orbit it, including eight planets, their moons, dwarf planets, and countless small bodies like asteroids and comets.\",1,The Solar System\n",
      "\"A black hole is a region of space where the gravitational pull is so strong that nothing, not even light, can escape from it. They are formed when massive stars collapse under their own gravity.\",2,Black Holes\n",
      "\"Galaxies are vast systems that consist of stars, stellar remnants, interstellar gas, dust, and dark matter. The Milky Way is the galaxy that contains our Solar System.\",3,Galaxies\n",
      "The Big Bang Theory is the leading explanation about how the universe began. It suggests that the universe was once in an extremely hot and dense state and has been expanding ever since.,4,The Big Bang Theory\n",
      "\"Exoplanets, or extrasolar planets, are planets that exist outside our solar system. They vary greatly in size and composition and are often found using methods like the transit method and radial velocity.\",5,Exoplanets\n",
      "\"Stars are born from clouds of gas and dust in space. They undergo a life cycle that includes stages such as main sequence, red giant, and, ultimately, either a supernova explosion or a gentle fade into a white dwarf.\",6,The Life Cycle of Stars\n",
      "\"Astrobiology is the study of the origin, evolution, distribution, and future of life in the universe. It combines elements of biology, chemistry, and planetary science.\",7,Astrobiology\n",
      "Dark matter is a type of matter that does not emit light or energy. It cannot be observed directly but is believed to make up about 27% of the universe's total mass and energy.,8,Dark Matter\n",
      "\"The universe has been expanding since the Big Bang. Observations of distant galaxies show that they are moving away from us, which supports the idea of an expanding universe.\",9,The Expanding Universe\n",
      "\"Space exploration involves the use of space technology to explore outer space. It includes missions to planets, moons, and other celestial bodies, aiming to discover more about the universe.\",10,Space Exploration\n",
      "\n"
     ]
    }
   ],
   "source": [
    "query = {\n",
    "    \"query\": \"SELECT * FROM my_index\",\n",
    "}\n",
    "\n",
    "response = es.sql.query(body=query, format='csv')\n",
    "print(response)"
   ]
  },
  {
   "cell_type": "code",
   "execution_count": 11,
   "metadata": {},
   "outputs": [
    {
     "name": "stdout",
     "output_type": "stream",
     "text": [
      "content\tid\ttitle\n",
      "The Solar System consists of the Sun and the objects that orbit it, including eight planets, their moons, dwarf planets, and countless small bodies like asteroids and comets.\t1\tThe Solar System\n",
      "A black hole is a region of space where the gravitational pull is so strong that nothing, not even light, can escape from it. They are formed when massive stars collapse under their own gravity.\t2\tBlack Holes\n",
      "Galaxies are vast systems that consist of stars, stellar remnants, interstellar gas, dust, and dark matter. The Milky Way is the galaxy that contains our Solar System.\t3\tGalaxies\n",
      "The Big Bang Theory is the leading explanation about how the universe began. It suggests that the universe was once in an extremely hot and dense state and has been expanding ever since.\t4\tThe Big Bang Theory\n",
      "Exoplanets, or extrasolar planets, are planets that exist outside our solar system. They vary greatly in size and composition and are often found using methods like the transit method and radial velocity.\t5\tExoplanets\n",
      "Stars are born from clouds of gas and dust in space. They undergo a life cycle that includes stages such as main sequence, red giant, and, ultimately, either a supernova explosion or a gentle fade into a white dwarf.\t6\tThe Life Cycle of Stars\n",
      "Astrobiology is the study of the origin, evolution, distribution, and future of life in the universe. It combines elements of biology, chemistry, and planetary science.\t7\tAstrobiology\n",
      "Dark matter is a type of matter that does not emit light or energy. It cannot be observed directly but is believed to make up about 27% of the universe's total mass and energy.\t8\tDark Matter\n",
      "The universe has been expanding since the Big Bang. Observations of distant galaxies show that they are moving away from us, which supports the idea of an expanding universe.\t9\tThe Expanding Universe\n",
      "Space exploration involves the use of space technology to explore outer space. It includes missions to planets, moons, and other celestial bodies, aiming to discover more about the universe.\t10\tSpace Exploration\n",
      "\n"
     ]
    }
   ],
   "source": [
    "query = {\n",
    "    \"query\": \"SELECT * FROM my_index\",\n",
    "}\n",
    "\n",
    "response = es.sql.query(body=query, format='tsv')\n",
    "print(response)"
   ]
  },
  {
   "cell_type": "markdown",
   "metadata": {},
   "source": [
    "### 3. Filter results"
   ]
  },
  {
   "cell_type": "code",
   "execution_count": 12,
   "metadata": {},
   "outputs": [
    {
     "name": "stdout",
     "output_type": "stream",
     "text": [
      "{'columns': [{'name': 'content', 'type': 'text'}, {'name': 'id', 'type': 'long'}, {'name': 'title', 'type': 'text'}], 'rows': [['A black hole is a region of space where the gravitational pull is so strong that nothing, not even light, can escape from it. They are formed when massive stars collapse under their own gravity.', 2, 'Black Holes']]}\n"
     ]
    },
    {
     "name": "stderr",
     "output_type": "stream",
     "text": [
      "/var/folders/9w/6tqt2kcs6w59cx3xsc8pgkg00000gn/T/ipykernel_99596/1825404533.py:5: DeprecationWarning: Received 'filter' via a specific parameter in the presence of a 'body' parameter, which is deprecated and will be removed in a future version. Instead, use only 'body' or only specific parameters.\n",
      "  response = es.sql.query(\n"
     ]
    }
   ],
   "source": [
    "query = {\n",
    "    \"query\": \"SELECT * FROM my_index\"\n",
    "}\n",
    "\n",
    "response = es.sql.query(\n",
    "    body=query,\n",
    "    filter={\n",
    "        \"term\": {\n",
    "            \"title.keyword\": \"Black Holes\"\n",
    "        }\n",
    "    },\n",
    ")\n",
    "print(response)"
   ]
  },
  {
   "cell_type": "markdown",
   "metadata": {},
   "source": [
    "### 4. Pagination"
   ]
  },
  {
   "cell_type": "code",
   "execution_count": 13,
   "metadata": {},
   "outputs": [
    {
     "name": "stderr",
     "output_type": "stream",
     "text": [
      "/var/folders/9w/6tqt2kcs6w59cx3xsc8pgkg00000gn/T/ipykernel_99596/3586786142.py:5: DeprecationWarning: Received 'fetch_size' via a specific parameter in the presence of a 'body' parameter, which is deprecated and will be removed in a future version. Instead, use only 'body' or only specific parameters.\n",
      "  response = es.sql.query(\n"
     ]
    },
    {
     "data": {
      "text/plain": [
       "{'columns': [{'name': 'content', 'type': 'text'},\n",
       "  {'name': 'id', 'type': 'long'},\n",
       "  {'name': 'title', 'type': 'text'}],\n",
       " 'rows': [['Space exploration involves the use of space technology to explore outer space. It includes missions to planets, moons, and other celestial bodies, aiming to discover more about the universe.',\n",
       "   10,\n",
       "   'Space Exploration'],\n",
       "  ['The universe has been expanding since the Big Bang. Observations of distant galaxies show that they are moving away from us, which supports the idea of an expanding universe.',\n",
       "   9,\n",
       "   'The Expanding Universe'],\n",
       "  [\"Dark matter is a type of matter that does not emit light or energy. It cannot be observed directly but is believed to make up about 27% of the universe's total mass and energy.\",\n",
       "   8,\n",
       "   'Dark Matter'],\n",
       "  ['Astrobiology is the study of the origin, evolution, distribution, and future of life in the universe. It combines elements of biology, chemistry, and planetary science.',\n",
       "   7,\n",
       "   'Astrobiology'],\n",
       "  ['Stars are born from clouds of gas and dust in space. They undergo a life cycle that includes stages such as main sequence, red giant, and, ultimately, either a supernova explosion or a gentle fade into a white dwarf.',\n",
       "   6,\n",
       "   'The Life Cycle of Stars']],\n",
       " 'cursor': 'spCTBERGTAB0T81OwkAQntm2YLh463tQYzgTDwRjorREIpdNbHfpYtld6STd8hQkvInxwXwD3YL15neYfJmZfD+4BiyBIXT49rg+M4AIcSSVqApemz0xVcCAS7WvCREwrIzeXP7wEwNgzJNunDHoSeS3nSYGw9xoEpr8p1diESmqhLd1H8dTiFe7litdCBc/Gds2Od2m43fHk2c3341n9wuIXxI7SVORLG/urH3Q6/xgts301w++YptxXWdvZWbbdLFaTeXj66RsAP8TBBj1fQOUfToMSTjyoaVP2ZdEeUn7dxwC/AAAAP//AwA='}"
      ]
     },
     "execution_count": 13,
     "metadata": {},
     "output_type": "execute_result"
    }
   ],
   "source": [
    "query = {\n",
    "    \"query\": \"SELECT * FROM my_index ORDER BY id DESC\"\n",
    "}\n",
    "\n",
    "response = es.sql.query(\n",
    "    body=query,\n",
    "    format='json',\n",
    "    fetch_size=5,\n",
    ")\n",
    "response.body"
   ]
  },
  {
   "cell_type": "code",
   "execution_count": 14,
   "metadata": {},
   "outputs": [
    {
     "name": "stdout",
     "output_type": "stream",
     "text": [
      "{'rows': [['Exoplanets, or extrasolar planets, are planets that exist outside our solar system. They vary greatly in size and composition and are often found using methods like the transit method and radial velocity.', 5, 'Exoplanets'], ['The Big Bang Theory is the leading explanation about how the universe began. It suggests that the universe was once in an extremely hot and dense state and has been expanding ever since.', 4, 'The Big Bang Theory'], ['Galaxies are vast systems that consist of stars, stellar remnants, interstellar gas, dust, and dark matter. The Milky Way is the galaxy that contains our Solar System.', 3, 'Galaxies'], ['A black hole is a region of space where the gravitational pull is so strong that nothing, not even light, can escape from it. They are formed when massive stars collapse under their own gravity.', 2, 'Black Holes'], ['The Solar System consists of the Sun and the objects that orbit it, including eight planets, their moons, dwarf planets, and countless small bodies like asteroids and comets.', 1, 'The Solar System']], 'cursor': 'spCTBERGTAB0T81OwkAQntkWMVy89T2oMZwJB4MxAVojkcsmtrt2pewudJJueQoS3sT4YL6Bbq31xneYfJmZfD+4ASyAIbT49rj5ZQADxJFUosx5ZQ7EVA5XXKpDRYiAYWn0W/eHnxgAY560o1v1pOWtJgbDzGgSmvynV2IDUlQKb+s+TucQr3cNVzoXLloa29QZ3SXjvePxs5vvxvcPK4heYjtJEhE/3c6sfdSb7Gje6+mfH3xFNuW6SrdFaptktV5P5eJ1UtSAlwQBRn3fAGWfDkMSjnxo6VP2JVF2af+PQ4AfAAAA//8DAA=='}\n",
      "\n",
      "{'rows': []}\n",
      "\n"
     ]
    }
   ],
   "source": [
    "while 'cursor' in response.body:\n",
    "    response = es.sql.query(\n",
    "        format='json',\n",
    "        cursor=response.body['cursor'],\n",
    "    )\n",
    "    print(response.body)\n",
    "    print()"
   ]
  },
  {
   "cell_type": "markdown",
   "metadata": {},
   "source": [
    "### 5. Translate API to translate SQL into ElasticSearch DSL query"
   ]
  },
  {
   "cell_type": "code",
   "execution_count": 15,
   "metadata": {},
   "outputs": [
    {
     "data": {
      "text/plain": [
       "{'size': 20,\n",
       " 'query': {'wildcard': {'content.keyword': {'wildcard': '*universe*',\n",
       "    'boost': 1.0}}},\n",
       " '_source': False,\n",
       " 'fields': [{'field': 'content'}, {'field': 'id'}, {'field': 'title'}],\n",
       " 'sort': [{'id': {'order': 'desc',\n",
       "    'missing': '_first',\n",
       "    'unmapped_type': 'long'}}],\n",
       " 'track_total_hits': -1}"
      ]
     },
     "execution_count": 15,
     "metadata": {},
     "output_type": "execute_result"
    }
   ],
   "source": [
    "translate_query = {\n",
    "    \"query\": \"SELECT * FROM my_index WHERE content LIKE '%universe%' ORDER BY id DESC LIMIT 20\"\n",
    "}\n",
    "\n",
    "translated_query = es.sql.translate(body=translate_query)\n",
    "translated_query.body"
   ]
  }
 ],
 "metadata": {
  "kernelspec": {
   "display_name": "Python 3",
   "language": "python",
   "name": "python3"
  },
  "language_info": {
   "codemirror_mode": {
    "name": "ipython",
    "version": 3
   },
   "file_extension": ".py",
   "mimetype": "text/x-python",
   "name": "python",
   "nbconvert_exporter": "python",
   "pygments_lexer": "ipython3",
   "version": "3.11.11"
  }
 },
 "nbformat": 4,
 "nbformat_minor": 2
}
