{
 "cells": [
  {
   "cell_type": "markdown",
   "metadata": {},
   "source": [
    "## Documentation\n",
    "\n",
    "To read more about the Time Series Data Stream, checkout the docs [here](https://www.elastic.co/guide/en/elasticsearch/reference/current/tsds.html).\n",
    "\n",
    "![time_series_docs](../images/time_series_docs.png)"
   ]
  },
  {
   "cell_type": "markdown",
   "metadata": {},
   "source": [
    "## Connect to ElasticSearch"
   ]
  },
  {
   "cell_type": "code",
   "execution_count": 9,
   "metadata": {},
   "outputs": [
    {
     "name": "stdout",
     "output_type": "stream",
     "text": [
      "Connected to Elasticsearch!\n",
      "{'cluster_name': 'docker-cluster',\n",
      " 'cluster_uuid': 'DlYG5m9gR3upn7qgaYyAJA',\n",
      " 'name': '3d37442d2591',\n",
      " 'tagline': 'You Know, for Search',\n",
      " 'version': {'build_date': '2024-08-05T10:05:34.233336849Z',\n",
      "             'build_flavor': 'default',\n",
      "             'build_hash': '1a77947f34deddb41af25e6f0ddb8e830159c179',\n",
      "             'build_snapshot': False,\n",
      "             'build_type': 'docker',\n",
      "             'lucene_version': '9.11.1',\n",
      "             'minimum_index_compatibility_version': '7.0.0',\n",
      "             'minimum_wire_compatibility_version': '7.17.0',\n",
      "             'number': '8.15.0'}}\n"
     ]
    }
   ],
   "source": [
    "from pprint import pprint\n",
    "from elasticsearch import Elasticsearch\n",
    "\n",
    "es = Elasticsearch('http://localhost:9200')\n",
    "client_info = es.info()\n",
    "print('Connected to Elasticsearch!')\n",
    "pprint(client_info.body)"
   ]
  },
  {
   "cell_type": "markdown",
   "metadata": {},
   "source": [
    "## ILM policy"
   ]
  },
  {
   "cell_type": "markdown",
   "metadata": {},
   "source": [
    "If you want to modify other phases of the policy, check this [example](https://www.elastic.co/guide/en/elasticsearch/reference/current/set-up-tsds.html#tsds-ilm-policy) in the docs."
   ]
  },
  {
   "cell_type": "code",
   "execution_count": 10,
   "metadata": {},
   "outputs": [
    {
     "name": "stdout",
     "output_type": "stream",
     "text": [
      "{'acknowledged': True}\n"
     ]
    }
   ],
   "source": [
    "from pprint import pprint\n",
    "\n",
    "policy = {\n",
    "    \"phases\": {\n",
    "        \"hot\": {\n",
    "            \"actions\": {\n",
    "                \"rollover\": {\n",
    "                    \"max_age\": \"5m\",\n",
    "                }\n",
    "            }\n",
    "        },\n",
    "        \"delete\": {\n",
    "            \"min_age\": \"20m\",\n",
    "            \"actions\": {\n",
    "                \"delete\": {}\n",
    "            }\n",
    "        }\n",
    "    }\n",
    "}\n",
    "\n",
    "response = es.ilm.put_lifecycle(name=\"cpu_usage_policy_v2\", policy=policy)\n",
    "pprint(response.body)"
   ]
  },
  {
   "cell_type": "markdown",
   "metadata": {},
   "source": [
    "## Index template"
   ]
  },
  {
   "cell_type": "code",
   "execution_count": 11,
   "metadata": {},
   "outputs": [
    {
     "name": "stdout",
     "output_type": "stream",
     "text": [
      "{'acknowledged': True}\n"
     ]
    }
   ],
   "source": [
    "response = es.indices.put_index_template(\n",
    "    name=\"cpu_example_template\",\n",
    "    index_patterns=[\n",
    "        \"cpu_example_template*\"  # Applies to any index starting with 'cpu_usage_data'\n",
    "    ],\n",
    "    data_stream={},\n",
    "    template={\n",
    "        \"settings\": {\n",
    "            \"index.mode\": \"time_series\",  # Enable time series data mode\n",
    "            \"index.lifecycle.name\": \"cpu_usage_policy_v2\",  # Apply the ILM policy\n",
    "        },\n",
    "        \"mappings\": {\n",
    "            \"properties\": {\n",
    "                \"@timestamp\": {\n",
    "                    \"type\": \"date\"\n",
    "                },\n",
    "                \"cpu_usage\": {\n",
    "                    \"type\": \"float\",\n",
    "                    \"time_series_metric\": \"gauge\"\n",
    "                },\n",
    "                \"cpu_name\": {\n",
    "                    \"type\": \"keyword\",\n",
    "                    \"time_series_dimension\": True\n",
    "                }\n",
    "            }\n",
    "        }\n",
    "    },\n",
    "    priority=500,  # A priority higher than 200 to avoid collisions with built-in templates\n",
    "    meta={\n",
    "        \"description\": \"Template for CPU usage data\",\n",
    "    },\n",
    "    allow_auto_create=True\n",
    ")\n",
    "pprint(response.body)"
   ]
  },
  {
   "cell_type": "markdown",
   "metadata": {},
   "source": [
    "## Index data"
   ]
  },
  {
   "cell_type": "code",
   "execution_count": 12,
   "metadata": {},
   "outputs": [
    {
     "ename": "KeyboardInterrupt",
     "evalue": "",
     "output_type": "error",
     "traceback": [
      "\u001b[0;31m---------------------------------------------------------------------------\u001b[0m",
      "\u001b[0;31mKeyboardInterrupt\u001b[0m                         Traceback (most recent call last)",
      "Cell \u001b[0;32mIn[12], line 9\u001b[0m\n\u001b[1;32m      5\u001b[0m index_alias \u001b[38;5;241m=\u001b[39m \u001b[38;5;124m\"\u001b[39m\u001b[38;5;124mcpu_example_template\u001b[39m\u001b[38;5;124m\"\u001b[39m\n\u001b[1;32m      6\u001b[0m \u001b[38;5;28;01mwhile\u001b[39;00m \u001b[38;5;28;01mTrue\u001b[39;00m:\n\u001b[1;32m      7\u001b[0m     document \u001b[38;5;241m=\u001b[39m {\n\u001b[1;32m      8\u001b[0m         \u001b[38;5;124m\"\u001b[39m\u001b[38;5;124m@timestamp\u001b[39m\u001b[38;5;124m\"\u001b[39m: datetime\u001b[38;5;241m.\u001b[39mutcnow(),\n\u001b[0;32m----> 9\u001b[0m         \u001b[38;5;124m\"\u001b[39m\u001b[38;5;124mcpu_usage\u001b[39m\u001b[38;5;124m\"\u001b[39m: \u001b[43mpsutil\u001b[49m\u001b[38;5;241;43m.\u001b[39;49m\u001b[43mcpu_percent\u001b[49m\u001b[43m(\u001b[49m\u001b[43minterval\u001b[49m\u001b[38;5;241;43m=\u001b[39;49m\u001b[38;5;241;43m0.1\u001b[39;49m\u001b[43m)\u001b[49m,\n\u001b[1;32m     10\u001b[0m         \u001b[38;5;124m\"\u001b[39m\u001b[38;5;124mcpu_name\u001b[39m\u001b[38;5;124m\"\u001b[39m: \u001b[38;5;124m\"\u001b[39m\u001b[38;5;124mi7-13650HX\u001b[39m\u001b[38;5;124m\"\u001b[39m\n\u001b[1;32m     11\u001b[0m     }\n\u001b[1;32m     13\u001b[0m     es\u001b[38;5;241m.\u001b[39mindex(index\u001b[38;5;241m=\u001b[39mindex_alias, document\u001b[38;5;241m=\u001b[39mdocument, refresh\u001b[38;5;241m=\u001b[39m\u001b[38;5;28;01mTrue\u001b[39;00m)\n",
      "File \u001b[0;32m~/anaconda3/envs/elastic_search/lib/python3.11/site-packages/psutil/__init__.py:1805\u001b[0m, in \u001b[0;36mcpu_percent\u001b[0;34m(interval, percpu)\u001b[0m\n\u001b[1;32m   1803\u001b[0m \u001b[38;5;28;01mif\u001b[39;00m blocking:\n\u001b[1;32m   1804\u001b[0m     t1 \u001b[38;5;241m=\u001b[39m cpu_times()\n\u001b[0;32m-> 1805\u001b[0m     time\u001b[38;5;241m.\u001b[39msleep(interval)\n\u001b[1;32m   1806\u001b[0m \u001b[38;5;28;01melse\u001b[39;00m:\n\u001b[1;32m   1807\u001b[0m     t1 \u001b[38;5;241m=\u001b[39m _last_cpu_times\u001b[38;5;241m.\u001b[39mget(tid) \u001b[38;5;129;01mor\u001b[39;00m cpu_times()\n",
      "\u001b[0;31mKeyboardInterrupt\u001b[0m: "
     ]
    }
   ],
   "source": [
    "import psutil\n",
    "from datetime import datetime\n",
    "\n",
    "\n",
    "index_alias = \"cpu_example_template\"\n",
    "while True:\n",
    "    document = {\n",
    "        \"@timestamp\": datetime.utcnow(),\n",
    "        \"cpu_usage\": psutil.cpu_percent(interval=0.1),\n",
    "        \"cpu_name\": \"i7-13650HX\"\n",
    "    }\n",
    "\n",
    "    es.index(index=index_alias, document=document, refresh=True)"
   ]
  }
 ],
 "metadata": {
  "kernelspec": {
   "display_name": "elastic_search",
   "language": "python",
   "name": "python3"
  },
  "language_info": {
   "codemirror_mode": {
    "name": "ipython",
    "version": 3
   },
   "file_extension": ".py",
   "mimetype": "text/x-python",
   "name": "python",
   "nbconvert_exporter": "python",
   "pygments_lexer": "ipython3",
   "version": "3.11.9"
  }
 },
 "nbformat": 4,
 "nbformat_minor": 2
}
