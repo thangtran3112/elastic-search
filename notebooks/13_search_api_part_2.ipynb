{
 "cells": [
  {
   "cell_type": "markdown",
   "metadata": {},
   "source": [
    "## Documentation\n",
    "\n",
    "To read more about the search API, visit the [docs](https://www.elastic.co/guide/en/elasticsearch/reference/current/query-dsl.html).\n",
    "\n",
    "![query_dsl_docs](../images/query_dsl_docs.png)"
   ]
  },
  {
   "cell_type": "markdown",
   "metadata": {},
   "source": [
    "## Connect to ElasticSearch"
   ]
  },
  {
   "cell_type": "code",
   "execution_count": 1,
   "metadata": {},
   "outputs": [
    {
     "name": "stdout",
     "output_type": "stream",
     "text": [
      "Connected to Elasticsearch!\n",
      "{'cluster_name': 'docker-cluster',\n",
      " 'cluster_uuid': 'DlYG5m9gR3upn7qgaYyAJA',\n",
      " 'name': '3d37442d2591',\n",
      " 'tagline': 'You Know, for Search',\n",
      " 'version': {'build_date': '2024-08-05T10:05:34.233336849Z',\n",
      "             'build_flavor': 'default',\n",
      "             'build_hash': '1a77947f34deddb41af25e6f0ddb8e830159c179',\n",
      "             'build_snapshot': False,\n",
      "             'build_type': 'docker',\n",
      "             'lucene_version': '9.11.1',\n",
      "             'minimum_index_compatibility_version': '7.0.0',\n",
      "             'minimum_wire_compatibility_version': '7.17.0',\n",
      "             'number': '8.15.0'}}\n"
     ]
    }
   ],
   "source": [
    "from pprint import pprint\n",
    "from elasticsearch import Elasticsearch\n",
    "\n",
    "es = Elasticsearch('http://localhost:9200')\n",
    "client_info = es.info()\n",
    "print('Connected to Elasticsearch!')\n",
    "pprint(client_info.body)"
   ]
  },
  {
   "cell_type": "markdown",
   "metadata": {},
   "source": [
    "## Inserting documents"
   ]
  },
  {
   "cell_type": "code",
   "execution_count": 2,
   "metadata": {},
   "outputs": [
    {
     "data": {
      "text/plain": [
       "ObjectApiResponse({'acknowledged': True, 'shards_acknowledged': True, 'index': 'my_index'})"
      ]
     },
     "execution_count": 2,
     "metadata": {},
     "output_type": "execute_result"
    }
   ],
   "source": [
    "es.indices.delete(index='my_index', ignore_unavailable=True)\n",
    "es.indices.create(index='my_index')"
   ]
  },
  {
   "cell_type": "markdown",
   "metadata": {},
   "source": [
    "Let's index the documents sequentially."
   ]
  },
  {
   "cell_type": "code",
   "execution_count": 3,
   "metadata": {},
   "outputs": [
    {
     "name": "stderr",
     "output_type": "stream",
     "text": [
      "  0%|          | 0/3 [00:00<?, ?it/s]"
     ]
    },
    {
     "name": "stderr",
     "output_type": "stream",
     "text": [
      "100%|██████████| 3/3 [00:00<00:00, 14.90it/s]\n"
     ]
    }
   ],
   "source": [
    "import json\n",
    "from tqdm import tqdm\n",
    "\n",
    "\n",
    "dummy_data = json.load(open(\"../data/dummy_data.json\"))\n",
    "for document in tqdm(dummy_data, total=len(dummy_data)):\n",
    "    response = es.index(index='my_index', body=document)"
   ]
  },
  {
   "cell_type": "markdown",
   "metadata": {},
   "source": [
    "## Searching"
   ]
  },
  {
   "cell_type": "markdown",
   "metadata": {},
   "source": [
    "### 1. Leaf clauses"
   ]
  },
  {
   "cell_type": "markdown",
   "metadata": {},
   "source": [
    "#### 1.1. term query"
   ]
  },
  {
   "cell_type": "markdown",
   "metadata": {},
   "source": [
    "Let's use the `Query DSL` language to construct a query that will find any document that wa created on `2024-09-22`"
   ]
  },
  {
   "cell_type": "code",
   "execution_count": 4,
   "metadata": {},
   "outputs": [
    {
     "name": "stdout",
     "output_type": "stream",
     "text": [
      "Found 1 documents in my_index\n"
     ]
    }
   ],
   "source": [
    "response = es.search(\n",
    "    index='my_index',\n",
    "    body={\n",
    "        \"query\": {\n",
    "            \"term\": {\n",
    "                \"created_on\": \"2024-09-22\"\n",
    "            }\n",
    "        }\n",
    "    }\n",
    ")\n",
    "\n",
    "n_hits = response['hits']['total']['value']\n",
    "print(f\"Found {n_hits} documents in my_index\")"
   ]
  },
  {
   "cell_type": "markdown",
   "metadata": {},
   "source": [
    "To retrieve the document just use the `hits` dictionary like this."
   ]
  },
  {
   "cell_type": "code",
   "execution_count": 5,
   "metadata": {},
   "outputs": [
    {
     "data": {
      "text/plain": [
       "[{'_index': 'my_index',\n",
       "  '_id': 'BlSrjJIB1BYohXxcykEY',\n",
       "  '_score': 1.0,\n",
       "  '_source': {'title': 'Sample Title 1',\n",
       "   'text': 'This is the first sample document text.',\n",
       "   'created_on': '2024-09-22'}}]"
      ]
     },
     "execution_count": 5,
     "metadata": {},
     "output_type": "execute_result"
    }
   ],
   "source": [
    "retrieved_documents = response['hits']['hits']\n",
    "retrieved_documents"
   ]
  },
  {
   "cell_type": "markdown",
   "metadata": {},
   "source": [
    "#### 1.2. match query"
   ]
  },
  {
   "cell_type": "markdown",
   "metadata": {},
   "source": [
    "Now, let's search for any document that contains the word `document` in the text field."
   ]
  },
  {
   "cell_type": "code",
   "execution_count": 8,
   "metadata": {},
   "outputs": [
    {
     "name": "stdout",
     "output_type": "stream",
     "text": [
      "Found 3 documents in my_index\n"
     ]
    }
   ],
   "source": [
    "response = es.search(\n",
    "    index='my_index',\n",
    "    body={\n",
    "        \"query\": {\n",
    "            \"match\": {\n",
    "                \"text\": \"document\"\n",
    "            }\n",
    "        }\n",
    "    }\n",
    ")\n",
    "\n",
    "n_hits = response['hits']['total']['value']\n",
    "print(f\"Found {n_hits} documents in my_index\")"
   ]
  },
  {
   "cell_type": "code",
   "execution_count": 9,
   "metadata": {},
   "outputs": [
    {
     "data": {
      "text/plain": [
       "[{'_index': 'my_index',\n",
       "  '_id': 'BlSrjJIB1BYohXxcykEY',\n",
       "  '_score': 0.13606146,\n",
       "  '_source': {'title': 'Sample Title 1',\n",
       "   'text': 'This is the first sample document text.',\n",
       "   'created_on': '2024-09-22'}},\n",
       " {'_index': 'my_index',\n",
       "  '_id': 'B1SrjJIB1BYohXxcykGp',\n",
       "  '_score': 0.13606146,\n",
       "  '_source': {'title': 'Sample Title 2',\n",
       "   'text': 'Here is another example of a document.',\n",
       "   'created_on': '2024-09-24'}},\n",
       " {'_index': 'my_index',\n",
       "  '_id': 'CFSrjJIB1BYohXxcykG3',\n",
       "  '_score': 0.12874341,\n",
       "  '_source': {'title': 'Sample Title 3',\n",
       "   'text': 'The content of the third document goes here.',\n",
       "   'created_on': '2024-09-24'}}]"
      ]
     },
     "execution_count": 9,
     "metadata": {},
     "output_type": "execute_result"
    }
   ],
   "source": [
    "retrieved_documents = response['hits']['hits']\n",
    "retrieved_documents"
   ]
  },
  {
   "cell_type": "markdown",
   "metadata": {},
   "source": [
    "#### 1.3. range query"
   ]
  },
  {
   "cell_type": "markdown",
   "metadata": {},
   "source": [
    "Let's find documents that were created before `2024-09-24`"
   ]
  },
  {
   "cell_type": "code",
   "execution_count": 11,
   "metadata": {},
   "outputs": [
    {
     "name": "stdout",
     "output_type": "stream",
     "text": [
      "Found 3 documents in my_index\n"
     ]
    }
   ],
   "source": [
    "response = es.search(\n",
    "    index='my_index',\n",
    "    body={\n",
    "        \"query\": {\n",
    "            \"range\": {\n",
    "                \"created_on\": {\n",
    "                    \"lte\": \"2024-09-23\"\n",
    "                }\n",
    "            }\n",
    "        }\n",
    "    }\n",
    ")\n",
    "\n",
    "n_hits = response['hits']['total']['value']\n",
    "print(f\"Found {n_hits} documents in my_index\")"
   ]
  },
  {
   "cell_type": "code",
   "execution_count": 12,
   "metadata": {},
   "outputs": [
    {
     "data": {
      "text/plain": [
       "[{'_index': 'my_index',\n",
       "  '_id': 'BlSrjJIB1BYohXxcykEY',\n",
       "  '_score': 1.0,\n",
       "  '_source': {'title': 'Sample Title 1',\n",
       "   'text': 'This is the first sample document text.',\n",
       "   'created_on': '2024-09-22'}},\n",
       " {'_index': 'my_index',\n",
       "  '_id': 'B1SrjJIB1BYohXxcykGp',\n",
       "  '_score': 1.0,\n",
       "  '_source': {'title': 'Sample Title 2',\n",
       "   'text': 'Here is another example of a document.',\n",
       "   'created_on': '2024-09-24'}},\n",
       " {'_index': 'my_index',\n",
       "  '_id': 'CFSrjJIB1BYohXxcykG3',\n",
       "  '_score': 1.0,\n",
       "  '_source': {'title': 'Sample Title 3',\n",
       "   'text': 'The content of the third document goes here.',\n",
       "   'created_on': '2024-09-24'}}]"
      ]
     },
     "execution_count": 12,
     "metadata": {},
     "output_type": "execute_result"
    }
   ],
   "source": [
    "retrieved_documents = response['hits']['hits']\n",
    "retrieved_documents"
   ]
  },
  {
   "cell_type": "markdown",
   "metadata": {},
   "source": [
    "This is how you use the leaf clauses. Now, if you want to combine leaf clauses together, you do that with the compound clauses."
   ]
  },
  {
   "cell_type": "markdown",
   "metadata": {},
   "source": [
    "### 2. Compound clauses"
   ]
  },
  {
   "cell_type": "markdown",
   "metadata": {},
   "source": [
    "Let's search for documents that meet the following criteria:\n",
    "- Created on `2024-09-24`\n",
    "- Have the word `third` in the text field."
   ]
  },
  {
   "cell_type": "code",
   "execution_count": 13,
   "metadata": {},
   "outputs": [
    {
     "name": "stdout",
     "output_type": "stream",
     "text": [
      "Found 1 documents in my_index\n"
     ]
    }
   ],
   "source": [
    "response = es.search(\n",
    "    index='my_index',\n",
    "    body={\n",
    "        \"query\": {\n",
    "            \"bool\": {\n",
    "                \"must\": [\n",
    "                    {\n",
    "                        \"match\": {\n",
    "                            \"text\": \"third\"\n",
    "                        }\n",
    "                    },\n",
    "                    {\n",
    "                        \"range\": {\n",
    "                            \"created_on\": {\n",
    "                                \"gte\": \"2024-09-24\",\n",
    "                                \"lte\": \"2024-09-24\"\n",
    "                            }\n",
    "                        }\n",
    "                    }\n",
    "                ]\n",
    "            }\n",
    "        }\n",
    "    }\n",
    ")\n",
    "\n",
    "n_hits = response['hits']['total']['value']\n",
    "print(f\"Found {n_hits} documents in my_index\")"
   ]
  },
  {
   "cell_type": "code",
   "execution_count": 14,
   "metadata": {},
   "outputs": [
    {
     "data": {
      "text/plain": [
       "[{'_index': 'my_index',\n",
       "  '_id': 'CFSrjJIB1BYohXxcykG3',\n",
       "  '_score': 1.94566,\n",
       "  '_source': {'title': 'Sample Title 3',\n",
       "   'text': 'The content of the third document goes here.',\n",
       "   'created_on': '2024-09-24'}}]"
      ]
     },
     "execution_count": 14,
     "metadata": {},
     "output_type": "execute_result"
    }
   ],
   "source": [
    "retrieved_documents = response['hits']['hits']\n",
    "retrieved_documents"
   ]
  },
  {
   "cell_type": "markdown",
   "metadata": {},
   "source": [
    "With the compound clause, we were to combine two leaf clauses to find a specific document."
   ]
  }
 ],
 "metadata": {
  "kernelspec": {
   "display_name": "elastic_search",
   "language": "python",
   "name": "python3"
  },
  "language_info": {
   "codemirror_mode": {
    "name": "ipython",
    "version": 3
   },
   "file_extension": ".py",
   "mimetype": "text/x-python",
   "name": "python",
   "nbconvert_exporter": "python",
   "pygments_lexer": "ipython3",
   "version": "3.11.9"
  }
 },
 "nbformat": 4,
 "nbformat_minor": 2
}
