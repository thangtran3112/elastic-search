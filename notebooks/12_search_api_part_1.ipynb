{
 "cells": [
  {
   "cell_type": "markdown",
   "metadata": {},
   "source": [
    "## Documentation\n",
    "\n",
    "To read more about the search API, visit the docs [here](https://www.elastic.co/guide/en/elasticsearch/reference/current/search-your-data.html) and [here](https://www.elastic.co/guide/en/elasticsearch/reference/current/search-search.html).\n",
    "\n",
    "![search_api_docs](../images/search_api_docs.png)"
   ]
  },
  {
   "cell_type": "markdown",
   "metadata": {},
   "source": [
    "## Connect to ElasticSearch"
   ]
  },
  {
   "cell_type": "code",
   "execution_count": 1,
   "metadata": {},
   "outputs": [
    {
     "name": "stdout",
     "output_type": "stream",
     "text": [
      "Connected to Elasticsearch!\n",
      "{'cluster_name': 'docker-cluster',\n",
      " 'cluster_uuid': 'iNEgsrfzSs-A5IWMvnKk8w',\n",
      " 'name': '5af1aab6c380',\n",
      " 'tagline': 'You Know, for Search',\n",
      " 'version': {'build_date': '2024-08-05T10:05:34.233336849Z',\n",
      "             'build_flavor': 'default',\n",
      "             'build_hash': '1a77947f34deddb41af25e6f0ddb8e830159c179',\n",
      "             'build_snapshot': False,\n",
      "             'build_type': 'docker',\n",
      "             'lucene_version': '9.11.1',\n",
      "             'minimum_index_compatibility_version': '7.0.0',\n",
      "             'minimum_wire_compatibility_version': '7.17.0',\n",
      "             'number': '8.15.0'}}\n"
     ]
    }
   ],
   "source": [
    "from pprint import pprint\n",
    "from elasticsearch import Elasticsearch\n",
    "\n",
    "es = Elasticsearch('http://localhost:9200')\n",
    "client_info = es.info()\n",
    "print('Connected to Elasticsearch!')\n",
    "pprint(client_info.body)"
   ]
  },
  {
   "cell_type": "markdown",
   "metadata": {},
   "source": [
    "## Inserting documents"
   ]
  },
  {
   "cell_type": "code",
   "execution_count": 2,
   "metadata": {},
   "outputs": [
    {
     "data": {
      "text/plain": [
       "ObjectApiResponse({'acknowledged': True, 'shards_acknowledged': True, 'index': 'index_2'})"
      ]
     },
     "execution_count": 2,
     "metadata": {},
     "output_type": "execute_result"
    }
   ],
   "source": [
    "es.indices.delete(index='index_1', ignore_unavailable=True)\n",
    "es.indices.create(index='index_1')\n",
    "\n",
    "es.indices.delete(index='index_2', ignore_unavailable=True)\n",
    "es.indices.create(index='index_2')"
   ]
  },
  {
   "cell_type": "markdown",
   "metadata": {},
   "source": [
    "Let's index the documents sequentially in both indices."
   ]
  },
  {
   "cell_type": "code",
   "execution_count": 3,
   "metadata": {},
   "outputs": [
    {
     "name": "stderr",
     "output_type": "stream",
     "text": [
      "100%|██████████| 3/3 [00:00<00:00, 93.06it/s]\n",
      "100%|██████████| 3/3 [00:00<00:00, 139.96it/s]\n"
     ]
    }
   ],
   "source": [
    "import json\n",
    "from tqdm import tqdm # type: ignore\n",
    "\n",
    "\n",
    "dummy_data = json.load(open(\"../data/dummy_data.json\"))\n",
    "for document in tqdm(dummy_data, total=len(dummy_data)):\n",
    "    response = es.index(index='index_1', body=document)\n",
    "\n",
    "for document in tqdm(dummy_data, total=len(dummy_data)):\n",
    "    response = es.index(index='index_2', body=document)"
   ]
  },
  {
   "cell_type": "markdown",
   "metadata": {},
   "source": [
    "## Searching"
   ]
  },
  {
   "cell_type": "markdown",
   "metadata": {},
   "source": [
    "We can provide the `index` argument one index at a time."
   ]
  },
  {
   "cell_type": "code",
   "execution_count": 4,
   "metadata": {},
   "outputs": [
    {
     "name": "stdout",
     "output_type": "stream",
     "text": [
      "Found 3 documents in index_1\n"
     ]
    }
   ],
   "source": [
    "response = es.search(\n",
    "    index='index_1',\n",
    "    body={\n",
    "        \"query\": {\"match_all\": {}}\n",
    "    }\n",
    ")\n",
    "\n",
    "n_hits = response['hits']['total']['value']\n",
    "print(f\"Found {n_hits} documents in index_1\")"
   ]
  },
  {
   "cell_type": "code",
   "execution_count": 5,
   "metadata": {},
   "outputs": [
    {
     "data": {
      "text/plain": [
       "{'total': {'value': 3, 'relation': 'eq'},\n",
       " 'max_score': 1.0,\n",
       " 'hits': [{'_index': 'index_1',\n",
       "   '_id': 'qEbGL5UB6odEtf1M_EnP',\n",
       "   '_score': 1.0,\n",
       "   '_source': {'title': 'Sample Title 1',\n",
       "    'text': 'This is the first sample document text.',\n",
       "    'created_on': '2024-09-22'}},\n",
       "  {'_index': 'index_1',\n",
       "   '_id': 'qUbGL5UB6odEtf1M_Enn',\n",
       "   '_score': 1.0,\n",
       "   '_source': {'title': 'Sample Title 2',\n",
       "    'text': 'Here is another example of a document.',\n",
       "    'created_on': '2024-09-24'}},\n",
       "  {'_index': 'index_1',\n",
       "   '_id': 'qkbGL5UB6odEtf1M_Enq',\n",
       "   '_score': 1.0,\n",
       "   '_source': {'title': 'Sample Title 3',\n",
       "    'text': 'The content of the third document goes here.',\n",
       "    'created_on': '2024-09-24'}}]}"
      ]
     },
     "execution_count": 5,
     "metadata": {},
     "output_type": "execute_result"
    }
   ],
   "source": [
    "response['hits']"
   ]
  },
  {
   "cell_type": "code",
   "execution_count": 6,
   "metadata": {},
   "outputs": [
    {
     "name": "stdout",
     "output_type": "stream",
     "text": [
      "Found 3 documents in index_2\n"
     ]
    }
   ],
   "source": [
    "response = es.search(\n",
    "    index='index_2',\n",
    "    body={\n",
    "        \"query\": {\"match_all\": {}}\n",
    "    }\n",
    ")\n",
    "\n",
    "n_hits = response['hits']['total']['value']\n",
    "print(f\"Found {n_hits} documents in index_2\")"
   ]
  },
  {
   "cell_type": "markdown",
   "metadata": {},
   "source": [
    "Or we can provide the `index` argument multiple indices at once."
   ]
  },
  {
   "cell_type": "code",
   "execution_count": 7,
   "metadata": {},
   "outputs": [
    {
     "name": "stdout",
     "output_type": "stream",
     "text": [
      "Found 6 documents in index_1 and index_2\n"
     ]
    }
   ],
   "source": [
    "response = es.search(\n",
    "    index='index_1,index_2',\n",
    "    body={\n",
    "        \"query\": {\"match_all\": {}}\n",
    "    }\n",
    ")\n",
    "\n",
    "n_hits = response['hits']['total']['value']\n",
    "print(f\"Found {n_hits} documents in index_1 and index_2\")"
   ]
  },
  {
   "cell_type": "markdown",
   "metadata": {},
   "source": [
    "We can also use wildcards `*` to match multiple indices without listing them individually, such as `\"index*\"`."
   ]
  },
  {
   "cell_type": "code",
   "execution_count": 8,
   "metadata": {},
   "outputs": [
    {
     "name": "stdout",
     "output_type": "stream",
     "text": [
      "Found 6 documents in all indexes with name starting with 'index'\n"
     ]
    }
   ],
   "source": [
    "response = es.search(\n",
    "    index='index*',\n",
    "    body={\n",
    "        \"query\": {\"match_all\": {}}\n",
    "    }\n",
    ")\n",
    "\n",
    "n_hits = response['hits']['total']['value']\n",
    "print(f\"Found {n_hits} documents in all indexes with name starting with 'index'\")"
   ]
  },
  {
   "cell_type": "markdown",
   "metadata": {},
   "source": [
    "Or, to search all indices, we use `_all`."
   ]
  },
  {
   "cell_type": "code",
   "execution_count": 9,
   "metadata": {},
   "outputs": [
    {
     "name": "stdout",
     "output_type": "stream",
     "text": [
      "Found 20 documents in all indexes\n"
     ]
    }
   ],
   "source": [
    "response = es.search(\n",
    "    index='_all',\n",
    "    body={\n",
    "        \"query\": {\"match_all\": {}}\n",
    "    }\n",
    ")\n",
    "\n",
    "n_hits = response['hits']['total']['value']\n",
    "print(f\"Found {n_hits} documents in all indexes\")"
   ]
  }
 ],
 "metadata": {
  "kernelspec": {
   "display_name": "Python 3",
   "language": "python",
   "name": "python3"
  },
  "language_info": {
   "codemirror_mode": {
    "name": "ipython",
    "version": 3
   },
   "file_extension": ".py",
   "mimetype": "text/x-python",
   "name": "python",
   "nbconvert_exporter": "python",
   "pygments_lexer": "ipython3",
   "version": "3.11.11"
  }
 },
 "nbformat": 4,
 "nbformat_minor": 2
}
