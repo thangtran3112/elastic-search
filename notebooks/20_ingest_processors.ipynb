{
 "cells": [
  {
   "cell_type": "markdown",
   "metadata": {},
   "source": [
    "## Documentation\n",
    "\n",
    "To read more about the ingest processor, checkout the docs [here](https://www.elastic.co/guide/en/elasticsearch/reference/8.15/processors.html).\n",
    "\n",
    "![ingest_processor_docs](../images/ingest_processor_docs.png)"
   ]
  },
  {
   "cell_type": "markdown",
   "metadata": {},
   "source": [
    "## Connect to ElasticSearch"
   ]
  },
  {
   "cell_type": "code",
   "execution_count": 1,
   "metadata": {},
   "outputs": [
    {
     "name": "stdout",
     "output_type": "stream",
     "text": [
      "Connected to Elasticsearch!\n",
      "{'cluster_name': 'docker-cluster',\n",
      " 'cluster_uuid': 'DlYG5m9gR3upn7qgaYyAJA',\n",
      " 'name': '3d37442d2591',\n",
      " 'tagline': 'You Know, for Search',\n",
      " 'version': {'build_date': '2024-08-05T10:05:34.233336849Z',\n",
      "             'build_flavor': 'default',\n",
      "             'build_hash': '1a77947f34deddb41af25e6f0ddb8e830159c179',\n",
      "             'build_snapshot': False,\n",
      "             'build_type': 'docker',\n",
      "             'lucene_version': '9.11.1',\n",
      "             'minimum_index_compatibility_version': '7.0.0',\n",
      "             'minimum_wire_compatibility_version': '7.17.0',\n",
      "             'number': '8.15.0'}}\n"
     ]
    }
   ],
   "source": [
    "from pprint import pprint\n",
    "from elasticsearch import Elasticsearch\n",
    "\n",
    "es = Elasticsearch('http://localhost:9200')\n",
    "client_info = es.info()\n",
    "print('Connected to Elasticsearch!')\n",
    "pprint(client_info.body)"
   ]
  },
  {
   "cell_type": "markdown",
   "metadata": {},
   "source": [
    "## Common ingest processors"
   ]
  },
  {
   "cell_type": "markdown",
   "metadata": {},
   "source": [
    "Here’s a look at some frequently used ingest processors:\n",
    "\n",
    "1. **Convert**: Changes the data type of a field.\n",
    "2. **Rename**: Changes the name of a field.\n",
    "3. **Set**: Assigns a specified value to a field.\n",
    "4. **HTML Strip**: Strips HTML tags from a field's content.\n",
    "5. **Lowercase**: Transforms the text in a field to lowercase.\n",
    "6. **Uppercase**: Transforms the text in a field to uppercase.\n",
    "7. **Trim**: Removes whitespace from the beginning and end of a field's value.\n",
    "8. **Split**: Divides the field content into an array, using a comma `,` as the delimiter.\n",
    "9. **Remove**: Deletes a field from the document.\n",
    "10. **Append**: Adds a value to an array field."
   ]
  },
  {
   "cell_type": "markdown",
   "metadata": {},
   "source": [
    "### 1. Creating the document"
   ]
  },
  {
   "cell_type": "markdown",
   "metadata": {},
   "source": [
    "We'll apply all these common processors to this document to demonstrate how each one works."
   ]
  },
  {
   "cell_type": "code",
   "execution_count": 2,
   "metadata": {},
   "outputs": [],
   "source": [
    "document = {\n",
    "    \"price\": \"100.50\",\n",
    "    \"old_name\": \"old_value\",\n",
    "    \"description\": \"<p>This is a description with HTML.</p>\",\n",
    "    \"username\": \"UserNAME\",\n",
    "    \"category\": \"books\",\n",
    "    \"title\": \"   Example Title with Whitespace   \",\n",
    "    \"tags\": \"tag1,tag2,tag3\",\n",
    "    \"temporary_field\": \"This field should be removed\"\n",
    "}"
   ]
  },
  {
   "cell_type": "markdown",
   "metadata": {},
   "source": [
    "### 2. Creating the pipeline"
   ]
  },
  {
   "cell_type": "code",
   "execution_count": 3,
   "metadata": {},
   "outputs": [
    {
     "name": "stdout",
     "output_type": "stream",
     "text": [
      "Pipeline 'multi_steps_pipeline' created successfully!\n"
     ]
    }
   ],
   "source": [
    "pipeline_body = {\n",
    "    \"description\": \"Pipeline to demonstrate various ingest processors\",\n",
    "    \"processors\": [\n",
    "        {\n",
    "            \"convert\": {\n",
    "                \"field\": \"price\",\n",
    "                \"type\": \"float\",\n",
    "                \"ignore_missing\": True\n",
    "            }\n",
    "        },\n",
    "        {\n",
    "            \"rename\": {\n",
    "                \"field\": \"old_name\",\n",
    "                \"target_field\": \"new_name\"\n",
    "            }\n",
    "        },\n",
    "        {\n",
    "            \"set\": {\n",
    "                \"field\": \"status\",\n",
    "                \"value\": \"active\"\n",
    "            }\n",
    "        },\n",
    "        {\n",
    "            \"html_strip\": {\n",
    "                \"field\": \"description\"\n",
    "            }\n",
    "        },\n",
    "        {\n",
    "            \"lowercase\": {\n",
    "                \"field\": \"username\"\n",
    "            }\n",
    "        },\n",
    "        {\n",
    "            \"uppercase\": {\n",
    "                \"field\": \"category\"\n",
    "            }\n",
    "        },\n",
    "        {\n",
    "            \"trim\": {\n",
    "                \"field\": \"title\"\n",
    "            }\n",
    "        },\n",
    "        {\n",
    "            \"split\": {\n",
    "                \"field\": \"tags\",\n",
    "                \"separator\": \",\"\n",
    "            }\n",
    "        },\n",
    "        {\n",
    "            \"remove\": {\n",
    "                \"field\": \"temporary_field\"\n",
    "            }\n",
    "        },\n",
    "        {\n",
    "            \"append\": {\n",
    "                \"field\": \"tags\",\n",
    "                \"value\": [\"new_tag\"]\n",
    "            }\n",
    "        }\n",
    "    ]\n",
    "}\n",
    "\n",
    "pipeline_id = \"multi_steps_pipeline\"\n",
    "es.ingest.put_pipeline(id=pipeline_id, body=pipeline_body)\n",
    "print(f\"Pipeline '{pipeline_id}' created successfully!\")"
   ]
  },
  {
   "cell_type": "code",
   "execution_count": 4,
   "metadata": {},
   "outputs": [
    {
     "name": "stdout",
     "output_type": "stream",
     "text": [
      "{'_id': 'pEac5pIB_ipHjM1Sh7kj',\n",
      " '_index': 'my_index',\n",
      " '_primary_term': 1,\n",
      " '_seq_no': 0,\n",
      " '_shards': {'failed': 0, 'successful': 1, 'total': 2},\n",
      " '_version': 1,\n",
      " 'result': 'created'}\n"
     ]
    }
   ],
   "source": [
    "from pprint import pprint\n",
    "\n",
    "es.indices.delete(index='my_index', ignore_unavailable=True)\n",
    "es.indices.create(index='my_index')\n",
    "\n",
    "response = es.index(index=\"my_index\", document=document, pipeline=pipeline_id)\n",
    "pprint(response.body)"
   ]
  },
  {
   "cell_type": "code",
   "execution_count": 5,
   "metadata": {},
   "outputs": [
    {
     "name": "stdout",
     "output_type": "stream",
     "text": [
      "{'category': 'BOOKS',\n",
      " 'description': '\\nThis is a description with HTML.\\n',\n",
      " 'new_name': 'old_value',\n",
      " 'price': 100.5,\n",
      " 'status': 'active',\n",
      " 'tags': ['tag1', 'tag2', 'tag3', 'new_tag'],\n",
      " 'title': 'Example Title with Whitespace',\n",
      " 'username': 'username'}\n"
     ]
    }
   ],
   "source": [
    "response = es.search(index='my_index')\n",
    "hits = response.body['hits']['hits']\n",
    "\n",
    "for hit in hits:\n",
    "    pprint(hit['_source'])"
   ]
  }
 ],
 "metadata": {
  "kernelspec": {
   "display_name": "elastic_search",
   "language": "python",
   "name": "python3"
  },
  "language_info": {
   "codemirror_mode": {
    "name": "ipython",
    "version": 3
   },
   "file_extension": ".py",
   "mimetype": "text/x-python",
   "name": "python",
   "nbconvert_exporter": "python",
   "pygments_lexer": "ipython3",
   "version": "3.11.9"
  }
 },
 "nbformat": 4,
 "nbformat_minor": 2
}
